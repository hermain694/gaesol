{
  "nbformat": 4,
  "nbformat_minor": 0,
  "metadata": {
    "colab": {
      "name": "Practice exercises for List and For Loop.ipynb",
      "provenance": [],
      "collapsed_sections": [],
      "include_colab_link": true
    },
    "kernelspec": {
      "display_name": "Python 3",
      "language": "python",
      "name": "python3"
    },
    "language_info": {
      "codemirror_mode": {
        "name": "ipython",
        "version": 3
      },
      "file_extension": ".py",
      "mimetype": "text/x-python",
      "name": "python",
      "nbconvert_exporter": "python",
      "pygments_lexer": "ipython3",
      "version": "3.7.6"
    }
  },
  "cells": [
    {
      "cell_type": "markdown",
      "metadata": {
        "id": "view-in-github",
        "colab_type": "text"
      },
      "source": [
        "<a href=\"https://colab.research.google.com/github/hermain694/gaesol/blob/main/Practice_exercises_for_List_and_For_Loop.ipynb\" target=\"_parent\"><img src=\"https://colab.research.google.com/assets/colab-badge.svg\" alt=\"Open In Colab\"/></a>"
      ]
    },
    {
      "cell_type": "markdown",
      "metadata": {
        "id": "QIzENpKFnw7O"
      },
      "source": [
        "# Exercise # 1:\n",
        "Given a Python list you should be able to display Python list in the following order\n",
        "\n",
        "aLsit = [100, 200, 300, 400, 500]\n",
        "\n",
        "Expected output:\n",
        "\n",
        "[500, 400, 300, 200, 100]"
      ]
    },
    {
      "cell_type": "code",
      "metadata": {
        "colab": {
          "base_uri": "https://localhost:8080/"
        },
        "id": "rZnPqbtKnw71",
        "outputId": "18936047-abf0-45fb-890b-53caac319278"
      },
      "source": [
        "aList = [100, 200, 300, 400, 500]\r\n",
        "aList=aList[::-1]\r\n",
        "print(aList)"
      ],
      "execution_count": null,
      "outputs": [
        {
          "output_type": "stream",
          "text": [
            "[500, 400, 300, 200, 100]\n"
          ],
          "name": "stdout"
        }
      ]
    },
    {
      "cell_type": "markdown",
      "metadata": {
        "id": "UenyTJDcnw72"
      },
      "source": [
        "# Exercise # 2: \n",
        "\n",
        "Concatenate two lists index-wise\n",
        "\n",
        "list1 = [\"M\", \"na\", \"i\", \"Ke\"] \n",
        "\n",
        "list2 = [\"y\", \"me\", \"s\", \"lly\"]\n",
        "\n",
        "Expected output:\n",
        "\n",
        "['My', 'name', 'is', 'Kelly']"
      ]
    },
    {
      "cell_type": "code",
      "metadata": {
        "colab": {
          "base_uri": "https://localhost:8080/"
        },
        "id": "I40zNnqcnw72",
        "outputId": "ed43733d-46b8-4669-8577-ecc2491b6cd2"
      },
      "source": [
        "list1 = [\"M\", \"na\", \"i\", \"Ke\"] \r\n",
        "list2 = [\"y\", \"me\", \"s\", \"lly\"]\r\n",
        "list3=[]\r\n",
        "for i,j in zip(list1,list2):\r\n",
        "  list3.append(i+j)\r\n",
        "print(list3)"
      ],
      "execution_count": null,
      "outputs": [
        {
          "output_type": "stream",
          "text": [
            "['My', 'name', 'is', 'Kelly']\n"
          ],
          "name": "stdout"
        }
      ]
    },
    {
      "cell_type": "markdown",
      "metadata": {
        "id": "CCYcxBptnw73"
      },
      "source": [
        "# Exercise Question 3: \n",
        "Given a Python list. Turn every item of a list into its square\n",
        "\n",
        "aList = [1, 2, 3, 4, 5, 6, 7]\n",
        "\n",
        "Expected output:\n",
        "\n",
        "[1, 4, 9, 16, 25, 36, 49]"
      ]
    },
    {
      "cell_type": "code",
      "metadata": {
        "colab": {
          "base_uri": "https://localhost:8080/"
        },
        "id": "-r99RSrznw73",
        "outputId": "fa6dc970-ce61-42f4-f6af-165efbfb69b5"
      },
      "source": [
        "aList = [1, 2, 3, 4, 5, 6, 7]\r\n",
        "blist=[]\r\n",
        "for i in aList:\r\n",
        "  a=i**2\r\n",
        "  blist.append(a)\r\n",
        "print(blist)"
      ],
      "execution_count": null,
      "outputs": [
        {
          "output_type": "stream",
          "text": [
            "[1, 4, 9, 16, 25, 36, 49]\n"
          ],
          "name": "stdout"
        }
      ]
    },
    {
      "cell_type": "markdown",
      "metadata": {
        "id": "jsnekFFjnw74"
      },
      "source": [
        "# Exercise # 4: \n",
        "Concatenate two lists in the following order\n",
        "\n",
        "list1 = [\"Hello \", \"take \"]\n",
        "\n",
        "list2 = [\"Dear\", \"Sir\"]\n",
        "\n",
        "Expected output:\n",
        "\n",
        "['Hello Dear', 'Hello Sir', 'take Dear', 'take Sir']"
      ]
    },
    {
      "cell_type": "code",
      "metadata": {
        "colab": {
          "base_uri": "https://localhost:8080/"
        },
        "id": "MgUOojjRnw74",
        "outputId": "0c2062c0-af30-409c-ecc4-79ce128124d0"
      },
      "source": [
        "list1 = [\"Hello \", \"take \"]\r\n",
        "list2 = [\"Dear\", \"Sir\"]\r\n",
        "list3=[]\r\n",
        "for i in list1:\r\n",
        "  for j in list2:\r\n",
        "    list3.append(i+j)\r\n",
        "    \r\n",
        "print(list3)\r\n"
      ],
      "execution_count": null,
      "outputs": [
        {
          "output_type": "stream",
          "text": [
            "['Hello Dear', 'Hello Sir', 'take Dear', 'take Sir']\n"
          ],
          "name": "stdout"
        }
      ]
    },
    {
      "cell_type": "markdown",
      "metadata": {
        "id": "3ajLF0Wfnw74"
      },
      "source": [
        "# Exercise # 5: \n",
        "Given a two Python list. Iterate both lists simultaneously such that list1 should display item in original order and list2 in reverse order\n",
        "\n",
        "list1 = [10, 20, 30, 40]\n",
        "\n",
        "list2 = [100, 200, 300, 400]\n",
        "\n",
        "Expected output:\n",
        "\n",
        "10 400\n",
        "\n",
        "20 300\n",
        "\n",
        "30 200\n",
        "\n",
        "40 100"
      ]
    },
    {
      "cell_type": "code",
      "metadata": {
        "id": "RdW7TIo3nw75",
        "colab": {
          "base_uri": "https://localhost:8080/"
        },
        "outputId": "5ea88830-f537-4949-d82c-1ebc02889a95"
      },
      "source": [
        "list1 = [10, 20, 30, 40]\r\n",
        "\r\n",
        "list2 = [100, 200, 300, 400]\r\n",
        "for i,j in zip(list1,list2[::-1]):\r\n",
        "  print(i,j)"
      ],
      "execution_count": null,
      "outputs": [
        {
          "output_type": "stream",
          "text": [
            "10 400\n",
            "20 300\n",
            "30 200\n",
            "40 100\n"
          ],
          "name": "stdout"
        }
      ]
    },
    {
      "cell_type": "markdown",
      "metadata": {
        "id": "fq8UMohanw75"
      },
      "source": [
        "# Exercise # 6 :\n",
        "Remove empty strings from the list of strings\n",
        "\n",
        "list1 = [\"Mike\", \"\", \"Emma\", \"Kelly\", \"\", \"Brad\"]\n",
        "\n",
        "Expected output:\n",
        "\n",
        "[\"Mike\", \"Emma\", \"Kelly\", \"Brad\"]"
      ]
    },
    {
      "cell_type": "code",
      "metadata": {
        "id": "P6N119pMnw75",
        "colab": {
          "base_uri": "https://localhost:8080/"
        },
        "outputId": "4aef5f1f-cf27-4a56-840c-a609ee8e0c1c"
      },
      "source": [
        "list1 = [\"Mike\", \"\", \"Emma\", \"Kelly\", \"\", \"Brad\"]\r\n",
        "while \"\" in list1:\r\n",
        "  list1.remove(\"\")\r\n",
        "  print(list1)"
      ],
      "execution_count": null,
      "outputs": [
        {
          "output_type": "stream",
          "text": [
            "['Mike', 'Emma', 'Kelly', '', 'Brad']\n",
            "['Mike', 'Emma', 'Kelly', 'Brad']\n"
          ],
          "name": "stdout"
        }
      ]
    },
    {
      "cell_type": "markdown",
      "metadata": {
        "id": "7-GvKcLEnw76"
      },
      "source": [
        "# Exercise # 7 :\n",
        "Write a Python program to convert temperatures to and from celsius, fahrenheit. Go to the editor\n",
        "[ Formula : c/5 = f-32/9 [ where c = temperature in celsius and f = temperature in fahrenheit ]\n",
        "Expected Output :\n",
        "60°C is 140 in Fahrenheit\n",
        "45°F is 7 in Celsius\n"
      ]
    },
    {
      "cell_type": "code",
      "metadata": {
        "id": "QPFZAirinw76",
        "colab": {
          "base_uri": "https://localhost:8080/"
        },
        "outputId": "96d183ab-5bd2-4c8e-efba-6f32fcde06b2"
      },
      "source": [
        "temperature=float(input(\"enter temperature:\"))\r\n",
        "print(temperature ,u\"\\u2109\",'in fahrenheite is ',round((temperature-32)*(5/9),2),u\"\\u2103\",'in celsius')\r\n",
        "print(temperature,u\"\\u2103\",'in celsius is ',round(((temperature*(9/5))+32),2),u\"\\u2109\",'in fahrenheit')"
      ],
      "execution_count": 29,
      "outputs": [
        {
          "output_type": "stream",
          "text": [
            "enter temperature:45\n",
            "45.0 ℉ in fahrenheite is  7.22 ℃ in celsius\n",
            "45.0 ℃ in celsius is  113.0 ℉ in fahrenheit\n"
          ],
          "name": "stdout"
        }
      ]
    },
    {
      "cell_type": "markdown",
      "metadata": {
        "id": "-4koKbbInw76"
      },
      "source": [
        "# Exercise # 8\n",
        "Write a Python program to guess a number between 1 to 9.\n",
        "Note : User is prompted to enter a guess. If the user guesses wrong\n",
        "then the prompt appears again until the guess is correct, on successful guess,\n",
        "user will get a \"Well guessed!\" message, and the program will exit.\n"
      ]
    },
    {
      "cell_type": "code",
      "metadata": {
        "id": "gRRM6Savnw76",
        "colab": {
          "base_uri": "https://localhost:8080/"
        },
        "outputId": "a8bd1f59-ef7a-4a42-fac8-4bd2dee03e77"
      },
      "source": [
        "import random\r\n",
        "ran_num=random.randint(1,10)\r\n",
        "number_guess=1\r\n",
        "guess=int(input(\"enter your guessed number: \"))\r\n",
        "while(guess != ran_num):\r\n",
        "  if guess>ran_num:\r\n",
        "    print(\"guessed number is less than: \"+str(guess))\r\n",
        "  else:\r\n",
        "    print(\"number is greater than: \"+str(guess))\r\n",
        "  number_guess+=1\r\n",
        "  guess=int(input(\"enter your guessed number: \"))\r\n",
        "print(\"Congratsssss....Treat dooo yrr \"+str(guess)+' is right u guessed this in ',number_guess,'attempts')"
      ],
      "execution_count": 32,
      "outputs": [
        {
          "output_type": "stream",
          "text": [
            "enter your guessed number:4\n",
            "guessed number is less than: 4\n",
            "enter your guessed number:2\n",
            "guessed number is less than: 2\n",
            "enter your guessed number:1\n",
            "Congratsssss....Treat dooo yrr 1 is right u guessed in the 3 attempts\n"
          ],
          "name": "stdout"
        }
      ]
    },
    {
      "cell_type": "markdown",
      "metadata": {
        "id": "IpQlAQcInw77"
      },
      "source": [
        "# Exercise # 9\n",
        "Write a Python program that prints all the numbers from 0 to 6 except 3 and 6."
      ]
    },
    {
      "cell_type": "code",
      "metadata": {
        "id": "trtI9NTznw77",
        "colab": {
          "base_uri": "https://localhost:8080/"
        },
        "outputId": "958b89ca-da03-47d4-ea77-34b115236fe0"
      },
      "source": [
        "for i in range(0,7):\r\n",
        "  if i==3 or i==6:\r\n",
        "    continue\r\n",
        "  print(i)\r\n",
        "    \r\n",
        "    "
      ],
      "execution_count": null,
      "outputs": [
        {
          "output_type": "stream",
          "text": [
            "0\n",
            "1\n",
            "2\n",
            "4\n",
            "5\n"
          ],
          "name": "stdout"
        }
      ]
    },
    {
      "cell_type": "markdown",
      "metadata": {
        "id": "z9Hnwl0bnw77"
      },
      "source": [
        "# Exercise # 10\n",
        "Write a Python program which iterates the integers from 1 to 50.\n",
        "For multiples of three print \"it is multiple of 3\" instead of the number \n",
        "and for the multiples of five print \"multiple of 5\". For numbers which are \n",
        "multiples of both three and five print \"multiple of both 3 and 5\"\n"
      ]
    },
    {
      "cell_type": "code",
      "metadata": {
        "id": "lKKkrQt7nw78",
        "colab": {
          "base_uri": "https://localhost:8080/"
        },
        "outputId": "2fea29fb-5540-4549-b011-d8cfc1fdae63"
      },
      "source": [
        "for i in range(1,51):\r\n",
        "  if i%3 ==0 and i%5==0:\r\n",
        "    print('aaluu paratha')\r\n",
        "  elif i%5 ==0:\r\n",
        "    print('chole khulche')\r\n",
        "  elif i%3 ==0:\r\n",
        "    print('idli sambhar')\r\n",
        "  else:\r\n",
        "    print(i)"
      ],
      "execution_count": 7,
      "outputs": [
        {
          "output_type": "stream",
          "text": [
            "1\n",
            "2\n",
            "idli sambhar\n",
            "4\n",
            "chole khulche\n",
            "idli sambhar\n",
            "7\n",
            "8\n",
            "idli sambhar\n",
            "chole khulche\n",
            "11\n",
            "idli sambhar\n",
            "13\n",
            "14\n",
            "aaluu paratha\n",
            "16\n",
            "17\n",
            "idli sambhar\n",
            "19\n",
            "chole khulche\n",
            "idli sambhar\n",
            "22\n",
            "23\n",
            "idli sambhar\n",
            "chole khulche\n",
            "26\n",
            "idli sambhar\n",
            "28\n",
            "29\n",
            "aaluu paratha\n",
            "31\n",
            "32\n",
            "idli sambhar\n",
            "34\n",
            "chole khulche\n",
            "idli sambhar\n",
            "37\n",
            "38\n",
            "idli sambhar\n",
            "chole khulche\n",
            "41\n",
            "idli sambhar\n",
            "43\n",
            "44\n",
            "aaluu paratha\n",
            "46\n",
            "47\n",
            "idli sambhar\n",
            "49\n",
            "chole khulche\n"
          ],
          "name": "stdout"
        }
      ]
    },
    {
      "cell_type": "markdown",
      "metadata": {
        "id": "hm2e8wdJnw79"
      },
      "source": [
        "# Exercise # 11\n",
        "Write a Python program to create the multiplication table (from 1 to 10) of a number."
      ]
    },
    {
      "cell_type": "code",
      "metadata": {
        "id": "d2h_w8N3nw7-",
        "colab": {
          "base_uri": "https://localhost:8080/"
        },
        "outputId": "bdb18a6f-72de-43ae-aa06-e7c0232ff22b"
      },
      "source": [
        "number=int(input('enter a number:'))\r\n",
        "for i in range(1,11):\r\n",
        "  print(number,'*',i,'=',number*i)"
      ],
      "execution_count": null,
      "outputs": [
        {
          "output_type": "stream",
          "text": [
            "enter a number:6\n",
            "6 * 1 = 6\n",
            "6 * 2 = 12\n",
            "6 * 3 = 18\n",
            "6 * 4 = 24\n",
            "6 * 5 = 30\n",
            "6 * 6 = 36\n",
            "6 * 7 = 42\n",
            "6 * 8 = 48\n",
            "6 * 9 = 54\n",
            "6 * 10 = 60\n"
          ],
          "name": "stdout"
        }
      ]
    },
    {
      "cell_type": "markdown",
      "metadata": {
        "id": "R77MT5o8nw7-"
      },
      "source": [
        "# Exercise # 12\n",
        "Get all diagonal of matrix and sum of it :\n",
        "matrix = [[1,2,3,4], [2,3,4,5], [3,4,5,6], [4,5,6,7]]"
      ]
    },
    {
      "cell_type": "code",
      "metadata": {
        "id": "QuxmNYHUnw7-",
        "colab": {
          "base_uri": "https://localhost:8080/"
        },
        "outputId": "874e441e-9d46-4a5c-9e54-09d18bb75dad"
      },
      "source": [
        "matrix = [[1,2,3,4], \r\n",
        "          [2,3,4,5], \r\n",
        "          [3,4,5,6], \r\n",
        "          [4,5,6,7]\r\n",
        "]\r\n",
        "a=[]\r\n",
        "b=[]\r\n",
        "for i in range(len(matrix)):\r\n",
        "  for j in range(len(matrix)):\r\n",
        "    if i == j:\r\n",
        "      a.append(matrix[i][j])\r\n",
        "    if i+j == 4-1:\r\n",
        "      b.append(matrix[i][j])\r\n",
        "print(a,'left to right = : ',sum(a))\r\n",
        "print(b,'right to left = : ',sum(b))   "
      ],
      "execution_count": null,
      "outputs": [
        {
          "output_type": "stream",
          "text": [
            "[1, 3, 5, 7] left to right = :  16\n",
            "[4, 4, 4, 4] right to left = :  16\n"
          ],
          "name": "stdout"
        }
      ]
    }
  ]
}