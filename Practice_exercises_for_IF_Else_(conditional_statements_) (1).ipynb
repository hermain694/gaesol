{
  "nbformat": 4,
  "nbformat_minor": 0,
  "metadata": {
    "kernelspec": {
      "display_name": "Python 3",
      "language": "python",
      "name": "python3"
    },
    "language_info": {
      "codemirror_mode": {
        "name": "ipython",
        "version": 3
      },
      "file_extension": ".py",
      "mimetype": "text/x-python",
      "name": "python",
      "nbconvert_exporter": "python",
      "pygments_lexer": "ipython3",
      "version": "3.7.6"
    },
    "colab": {
      "name": "Practice exercises for IF Else (conditional statements ).ipynb",
      "provenance": [],
      "collapsed_sections": []
    }
  },
  "cells": [
    {
      "cell_type": "markdown",
      "metadata": {
        "id": "3wLgMrgMLlp-"
      },
      "source": [
        "# Exercise # 1 :\n",
        "Take two int values from user and print greatest among them."
      ]
    },
    {
      "cell_type": "code",
      "metadata": {
        "colab": {
          "base_uri": "https://localhost:8080/"
        },
        "id": "Z4fFw_IJLlp_",
        "outputId": "d14d999e-f15c-47d2-b77b-7bb0b286f81b"
      },
      "source": [
        "num_1=int(input(\"enter number one:\"))\n",
        "num_2=int(input(\"enter number two:\"))\n",
        "if num_1 > num_2:\n",
        "  print(\"first entered number is greater:\",num_1)\n",
        "else:\n",
        "  print(\"second entered number is greater:\",num_2)"
      ],
      "execution_count": null,
      "outputs": [
        {
          "output_type": "stream",
          "text": [
            "enter number one:0\n",
            "enter number two:5\n",
            "second entered number is greater: 5\n"
          ],
          "name": "stdout"
        }
      ]
    },
    {
      "cell_type": "markdown",
      "metadata": {
        "id": "pLhhR42FLlqA"
      },
      "source": [
        "# Exercise # 2:\n",
        "Take input of age of 3 people by user and determine oldest and youngest among them."
      ]
    },
    {
      "cell_type": "code",
      "metadata": {
        "id": "rCKnifWqLlqA",
        "colab": {
          "base_uri": "https://localhost:8080/"
        },
        "outputId": "d54bab50-93f7-4688-d2fe-5be7e6ab0486"
      },
      "source": [
        "age_1=int(input(\"enter the age of first person:\"))\n",
        "age_2=int(input(\"enter the age of second person:\"))\n",
        "age_3=int(input(\"enter the age of third person:\"))\n",
        "if (age_1 > age_2) and (age_1 > age_3):\n",
        "  print(\"greater age:\",age_1)\n",
        "elif (age_2 > age_1) and (age_2 > age_3):\n",
        "    print(\"greater age:\",age_2)\n",
        "else:\n",
        "  print(\"greater age:\",age_3)\n",
        "\n",
        "if (age_1 < age_2) and (age_1 < age_2):\n",
        "    print(\"lesser age:\",age_1)\n",
        "elif (age_2 < age_1) and (age_2 < age_3):\n",
        "    print(\"lesser age:\",age_2)\n",
        "else:\n",
        "  print(\"lesser age:\",age_3)\n"
      ],
      "execution_count": 56,
      "outputs": [
        {
          "output_type": "stream",
          "text": [
            "enter the age of first person:30\n",
            "enter the age of second person:66\n",
            "enter the age of third person:43\n",
            "greater age: 66\n",
            "lesser age: 30\n"
          ],
          "name": "stdout"
        }
      ]
    },
    {
      "cell_type": "markdown",
      "metadata": {
        "id": "wEsJo2kALlqA"
      },
      "source": [
        "# Exercise # 3:\n",
        "Take values of length and breadth of a rectangle from user and check if it is square or not."
      ]
    },
    {
      "cell_type": "code",
      "metadata": {
        "id": "RkvaLlrbLlqA",
        "colab": {
          "base_uri": "https://localhost:8080/"
        },
        "outputId": "dcf113a7-acd5-478e-dd6f-35bd1778fb71"
      },
      "source": [
        "length=int(input(\"enter length:\"))\n",
        "breadth=int(input(\"enter breadth:\"))\n",
        "if(length == breadth):\n",
        "  print(\"square\")\n",
        "else:\n",
        "  print(\"not a square\")"
      ],
      "execution_count": 64,
      "outputs": [
        {
          "output_type": "stream",
          "text": [
            "enter length:34\n",
            "enter breadth:77\n",
            "not a square\n"
          ],
          "name": "stdout"
        }
      ]
    },
    {
      "cell_type": "markdown",
      "metadata": {
        "id": "jcD8AmbILlqB"
      },
      "source": [
        "# Exercise # 4:\n",
        "A shop will give discount of 10% if the cost of purchased quantity is more than 1000.\n",
        "Ask user for quantity\n",
        "Suppose, one unit will cost 100.\n",
        "Judge and print total cost for user.\n"
      ]
    },
    {
      "cell_type": "code",
      "metadata": {
        "colab": {
          "base_uri": "https://localhost:8080/"
        },
        "id": "8RUsn5D9LlqB",
        "outputId": "e1dd7553-0cd4-428d-f58b-ecb7272bcbd9"
      },
      "source": [
        "quantity=int(input(\"enter the quantity:\"))\n",
        "price=quantity*100\n",
        "if price > 1000:\n",
        "  print(\"after 10% dicount:\",(price*10)/100)\n",
        "else:\n",
        "   print(\"no dicount:\",price)"
      ],
      "execution_count": null,
      "outputs": [
        {
          "output_type": "stream",
          "text": [
            "enter the quantity:2\n",
            "no dicount: 200\n"
          ],
          "name": "stdout"
        }
      ]
    },
    {
      "cell_type": "markdown",
      "metadata": {
        "id": "HdcKAUkzLlqB"
      },
      "source": [
        "# Exercise # 5:\n",
        "A company decided to give bonus of 5% to employee if his/her year of service is more than 5 years.\n",
        "Ask user for their salary and year of service and print the net bonus amount.\n",
        "\n"
      ]
    },
    {
      "cell_type": "code",
      "metadata": {
        "id": "q0a9BJS6LlqB",
        "colab": {
          "base_uri": "https://localhost:8080/"
        },
        "outputId": "eec2d948-a088-46d7-d637-21fd1a7a990d"
      },
      "source": [
        "\n",
        "no_of_years=int(input(\"enter no of years of your service:\"))\n",
        "salary=int(input(\"enter your salary:\"))\n",
        "if (no_of_years > 5):\n",
        "  print(\"bonus is:\",(salary*5)/100)\n",
        "  print(\"salary plus bonus is\",((salary*5)/100)+salary)\n",
        "else:\n",
        "   print(\"no bonus\")\n",
        "   print(\"salary plus without bonus is\",salary)\n"
      ],
      "execution_count": 69,
      "outputs": [
        {
          "output_type": "stream",
          "text": [
            "enter no of years of your service:4\n",
            "enter your salary:56000\n",
            "no bonus\n",
            "salary plus without bonus is 56000\n"
          ],
          "name": "stdout"
        }
      ]
    },
    {
      "cell_type": "markdown",
      "metadata": {
        "id": "e1SX0VvWLlqB"
      },
      "source": [
        "# Exercise # 6:\n",
        "A school has following rules for grading system:\n",
        "\n",
        "a. Below 25 - F\n",
        "\n",
        "b. 25 to 45 - E\n",
        "\n",
        "c. 45 to 50 - D\n",
        "\n",
        "d. 50 to 60 - C\n",
        "\n",
        "e. 60 to 80 - B\n",
        "\n",
        "f. Above 80 - A\n",
        "\n",
        "Ask user to enter marks and print the corresponding grade."
      ]
    },
    {
      "cell_type": "code",
      "metadata": {
        "id": "hlHndQ-rLlqB",
        "colab": {
          "base_uri": "https://localhost:8080/"
        },
        "outputId": "23d0eeb5-0b91-4080-f647-3c6b2f5b1836"
      },
      "source": [
        "english = float(input(\" Please enter English Marks: \"))\n",
        "math = float(input(\" Please enter Math score: \"))\n",
        "computers = float(input(\" Please enter Computer Marks: \"))\n",
        "physics = float(input(\" Please enter Physics Marks: \"))\n",
        "chemistry = float(input(\" Please enter Chemistry Marks: \"))\n",
        "\n",
        "total = english + math + computers + physics + chemistry\n",
        "percentage = round((total / 500) * 100)\n",
        "\n",
        "print(\"Total Marks =\",total)\n",
        "print(\"Marks Percentage =\",percentage,\"%\")\n",
        "\n",
        "if(percentage >= 80 and percentage ==99):\n",
        "    print(\"A Grade\")\n",
        "elif(percentage <80 and percentage >=70):\n",
        "    print(\"B Grade\")\n",
        "elif(percentage <70 and percentage >=60):\n",
        "    print(\"C Grade\")\n",
        "elif(percentage <60 and percentage >=50):\n",
        "    print(\"D Grade\")\n",
        "elif(percentage <50 and percentage >=25):\n",
        "    print(\"E Grade\")\n",
        "else:\n",
        "  print(\"Fail\")"
      ],
      "execution_count": 61,
      "outputs": [
        {
          "output_type": "stream",
          "text": [
            " Please enter English Marks: 67\n",
            " Please enter Math score: 44\n",
            " Please enter Computer Marks: 56\n",
            " Please enter Physics Marks: 49\n",
            " Please enter Chemistry Marks: 50\n",
            "Total Marks = 266.0\n",
            "Marks Percentage = 53.2 %\n",
            "D Grade\n"
          ],
          "name": "stdout"
        }
      ]
    },
    {
      "cell_type": "markdown",
      "metadata": {
        "id": "F-3k7Eg0LlqB"
      },
      "source": [
        "# Exercise # 7:\n",
        "Write a program to print absolute vlaue of a number entered by user.\n",
        "\n",
        "E.g.-\n",
        "\n",
        "INPUT: 1    =>>>>    OUTPUT: 1\n",
        "\n",
        "INPUT: -1   =>>>>     OUTPUT: 1\n"
      ]
    },
    {
      "cell_type": "code",
      "metadata": {
        "id": "SivyLRkPLlqB",
        "colab": {
          "base_uri": "https://localhost:8080/"
        },
        "outputId": "5db129eb-b793-41d9-a6c8-7fa2d034cf63"
      },
      "source": [
        "num=int(input(\"enter a number:\"))\n",
        "if num <0:\n",
        "  print(num*-1)\n",
        "else:\n",
        "  print(num)\n"
      ],
      "execution_count": 60,
      "outputs": [
        {
          "output_type": "stream",
          "text": [
            "enter a number:-100\n",
            "100\n"
          ],
          "name": "stdout"
        }
      ]
    },
    {
      "cell_type": "markdown",
      "metadata": {
        "id": "YWoQ3Xv5LlqB"
      },
      "source": [
        "# Exercise # 8:\n",
        "A student will not be allowed to sit in exam if his/her attendence is less than 75%.\n",
        "Take following input from user\n",
        "Number of classes held\n",
        "Number of classes attended.\n",
        "And print\n",
        "percentage of class attended\n",
        "Is student is allowed to sit in exam or not."
      ]
    },
    {
      "cell_type": "code",
      "metadata": {
        "id": "vpV0skKSLlqB",
        "colab": {
          "base_uri": "https://localhost:8080/"
        },
        "outputId": "275de028-91f1-4e21-ccf7-0b1033448f87"
      },
      "source": [
        "no_of_classes_held=int(input(\"enter number of classes held:\"))\n",
        "no_of_classes_attend=int(input(\"enter number of classes attend:\"))\n",
        "attendence=round((no_of_classes_attend/no_of_classes_held)*100)\n",
        "if(attendence>=75):\n",
        "  print(\"eligible to sit in exams\",attendence,\"% attendence\")\n",
        "else:\n",
        "  print(\"not eligible to sit in exams\",attendence,\"% attendence\")\n"
      ],
      "execution_count": 62,
      "outputs": [
        {
          "output_type": "stream",
          "text": [
            "enter number of classes held:13\n",
            "enter number of classes attend:10\n",
            "eligible to sit in exams 77 % attendence\n"
          ],
          "name": "stdout"
        }
      ]
    },
    {
      "cell_type": "markdown",
      "metadata": {
        "id": "v4DjHHivLlqB"
      },
      "source": [
        "# Exercise # 9:\n",
        "Modify the above question to allow student to sit if he/she has medical cause. Ask user if he/she has medical cause or not ( 'Y' or 'N' ) and print accordingly."
      ]
    },
    {
      "cell_type": "code",
      "metadata": {
        "id": "S5MVrflrLlqB",
        "colab": {
          "base_uri": "https://localhost:8080/"
        },
        "outputId": "07566fe9-400b-4373-cc72-b7724e1a6435"
      },
      "source": [
        "no_of_classes_held=int(input(\"enter number of classes held:\"))\n",
        "no_of_classes_attend=int(input(\"enter number of classes attend:\"))\n",
        "attendence=round((no_of_classes_attend/no_of_classes_held)*100)\n",
        "if(attendence>=75):\n",
        "  print(\"eligible to sit in exams\",attendence,\"% attendence\")\n",
        "else:\n",
        "  medical_issues=input(\"if u have any medical issues enter 'Y' or 'y':\")\n",
        "  if(medical_issues == 'Y' or medical_issues == 'y'):\n",
        "    print(\"eligible to sit in exams bcz of medical issues u faced\",attendence,\"% attendence\")\n",
        "  else:\n",
        "    print(\"not eligible to sit in exams\",attendence,\"% attendence\")\n"
      ],
      "execution_count": 68,
      "outputs": [
        {
          "output_type": "stream",
          "text": [
            "enter number of classes held:13\n",
            "enter number of classes attend:4\n",
            "if u have any medical issues enter 'Y' or 'y':n\n",
            "not eligible to sit in exams 31 % attendence\n"
          ],
          "name": "stdout"
        }
      ]
    }
  ]
}